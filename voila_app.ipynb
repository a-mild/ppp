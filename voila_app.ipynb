{
 "cells": [
  {
   "cell_type": "code",
   "execution_count": 7,
   "id": "706dced7-7e5c-495d-9ac5-fda777d6d6bd",
   "metadata": {},
   "outputs": [],
   "source": [
    "import logging\n",
    "logger = logging.getLogger()\n",
    "logger.setLevel(logging.DEBUG)\n",
    "\n",
    "import os, sys\n",
    "sys.path.insert(0, os.path.abspath('./pension_planner'))\n",
    "from pension_planner.frontend.ipyvuetify.main import IPyVuetifyFrontend"
   ]
  },
  {
   "cell_type": "code",
   "execution_count": null,
   "id": "9e3f8a18-9fdb-4ee0-8889-56706d98ee59",
   "metadata": {},
   "outputs": [],
   "source": [
    "app = IPyVuetifyFrontend()\n",
    "app.show()"
   ]
  }
 ],
 "metadata": {
  "kernelspec": {
   "display_name": "pension-planner",
   "language": "python",
   "name": "pension-planner"
  },
  "language_info": {
   "codemirror_mode": {
    "name": "ipython",
    "version": 3
   },
   "file_extension": ".py",
   "mimetype": "text/x-python",
   "name": "python",
   "nbconvert_exporter": "python",
   "pygments_lexer": "ipython3",
   "version": "3.10.2"
  }
 },
 "nbformat": 4,
 "nbformat_minor": 5
}
