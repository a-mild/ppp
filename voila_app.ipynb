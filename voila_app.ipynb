{
 "cells": [
  {
   "cell_type": "code",
   "execution_count": 1,
   "id": "706dced7-7e5c-495d-9ac5-fda777d6d6bd",
   "metadata": {},
   "outputs": [],
   "source": [
    "import logging\n",
    "logger = logging.getLogger()\n",
    "logger.setLevel(logging.DEBUG)\n",
    "\n",
    "import os, sys\n",
    "sys.path.insert(0, os.path.abspath('./pension_planner'))\n",
    "from pension_planner.frontend.app import THE_APP"
   ]
  },
  {
   "cell_type": "code",
   "execution_count": 2,
   "id": "32c29d98-9c3b-4881-a58b-908e57e096b2",
   "metadata": {},
   "outputs": [],
   "source": [
    "from uuid import UUID"
   ]
  },
  {
   "cell_type": "code",
   "execution_count": null,
   "id": "9e3f8a18-9fdb-4ee0-8889-56706d98ee59",
   "metadata": {},
   "outputs": [],
   "source": [
    "THE_APP"
   ]
  },
  {
   "cell_type": "code",
   "execution_count": 4,
   "id": "cb82262a-1636-4787-9872-64a11c9a38c5",
   "metadata": {},
   "outputs": [
    {
     "name": "stderr",
     "output_type": "stream",
     "text": [
      "DEBUG:root:Handling command OpenAccount(name='Konto #1', interest_rate=0.0, assets=[], liabilities=[])\n",
      "DEBUG:root:Handling event AccountOpened(id_=UUID('4ef89ebd-aa73-4b7a-a290-028b78051691')) with handler <pension_planner.service_layer.handlers.AddAccountToOverview object at 0x0000014406FBACE0>\n",
      "c:\\Users\\Alex\\PycharmProjects\\pension-planner\\pension_planner\\views.py:15: SAWarning: TypeDecorator GUID() will not produce a cache key because the ``cache_ok`` attribute is not set to True.  This can have significant performance implications including some performance degradations in comparison to prior SQLAlchemy versions.  Set this attribute to True if this type object's state is safe to use in a cache key, or False to disable this warning. (Background on this error at: https://sqlalche.me/e/14/cprf)\n",
      "  [account] = uow.session.execute(stmt).one_or_none()\n",
      "DEBUG:root:Handling event AccountOpened(id_=UUID('4ef89ebd-aa73-4b7a-a290-028b78051691')) with handler <pension_planner.service_layer.handlers.UpdateDropdownOptions object at 0x0000014406FB9840>\n",
      "c:\\Users\\Alex\\PycharmProjects\\pension-planner\\pension_planner\\views.py:24: SAWarning: TypeDecorator GUID() will not produce a cache key because the ``cache_ok`` attribute is not set to True.  This can have significant performance implications including some performance degradations in comparison to prior SQLAlchemy versions.  Set this attribute to True if this type object's state is safe to use in a cache key, or False to disable this warning. (Background on this error at: https://sqlalche.me/e/14/cprf)\n",
      "  accounts = uow.session.execute(stmt).all()\n",
      "DEBUG:root:Handling command CreateSingleOrder(name='Einzelauftrag #1', target_acc_id=None, from_acc_id=None, date=datetime.date(2022, 3, 4), amount=100)\n",
      "DEBUG:root:Handling event OrderCreated(id_=UUID('92a0f5fc-4678-4c6d-a587-dca950072c94')) with handler <pension_planner.service_layer.handlers.UpdateOrderEditor object at 0x0000014406FBADA0>\n",
      "c:\\Users\\Alex\\PycharmProjects\\pension-planner\\pension_planner\\views.py:33: SAWarning: TypeDecorator GUID() will not produce a cache key because the ``cache_ok`` attribute is not set to True.  This can have significant performance implications including some performance degradations in comparison to prior SQLAlchemy versions.  Set this attribute to True if this type object's state is safe to use in a cache key, or False to disable this warning. (Background on this error at: https://sqlalche.me/e/14/cprf)\n",
      "  order = uow.session.execute(stmt).scalars().first()\n",
      "DEBUG:root:UUID('92a0f5fc-4678-4c6d-a587-dca950072c94')\n",
      "DEBUG:root:{'name': 'v_model', 'old': None, 'new': 'Einzelauftrag #1', 'owner': TextField(label='Name', v_model='Einzelauftrag #1'), 'type': 'change'}\n",
      "DEBUG:root:Handling command UpdateOrderAttribute(id_=UUID('92a0f5fc-4678-4c6d-a587-dca950072c94'), attribute='name', new_value='Einzelauftrag #1')\n",
      "c:\\Users\\Alex\\PycharmProjects\\pension-planner\\pension_planner\\adapters\\repositories.py:81: SAWarning: TypeDecorator GUID() will not produce a cache key because the ``cache_ok`` attribute is not set to True.  This can have significant performance implications including some performance degradations in comparison to prior SQLAlchemy versions.  Set this attribute to True if this type object's state is safe to use in a cache key, or False to disable this warning. (Background on this error at: https://sqlalche.me/e/14/cprf)\n",
      "  return self.session.execute(stmt).scalars().first()\n",
      "DEBUG:root:old_value='Einzelauftrag #1'\n",
      "DEBUG:root:Event appended: OrderAttributeUpdated(order_id=UUID('92a0f5fc-4678-4c6d-a587-dca950072c94'), attribute='name', old_value='Einzelauftrag #1', new_value='Einzelauftrag #1')\n",
      "DEBUG:root:Handling event OrderAttributeUpdated(order_id=UUID('92a0f5fc-4678-4c6d-a587-dca950072c94'), attribute='name', old_value='Einzelauftrag #1', new_value='Einzelauftrag #1') with handler <pension_planner.service_layer.handlers.UpdateDropdownOptions object at 0x0000014406FBAE00>\n",
      "DEBUG:root:Handling event OrderAttributeUpdated(order_id=UUID('92a0f5fc-4678-4c6d-a587-dca950072c94'), attribute='name', old_value='Einzelauftrag #1', new_value='Einzelauftrag #1') with handler <pension_planner.service_layer.handlers.UpdateOverview object at 0x0000014406FBAE60>\n",
      "DEBUG:root:OrderAttributeUpdated(order_id=UUID('92a0f5fc-4678-4c6d-a587-dca950072c94'), attribute='name', old_value='Einzelauftrag #1', new_value='Einzelauftrag #1')\n",
      "DEBUG:root:UUID('92a0f5fc-4678-4c6d-a587-dca950072c94')\n",
      "DEBUG:root:{'name': 'v_model', 'old': None, 'new': 100.0, 'owner': TextField(label='Betrag', prefix='€', type='number', v_model=100.0), 'type': 'change'}\n",
      "DEBUG:root:Handling command UpdateOrderAttribute(id_=UUID('92a0f5fc-4678-4c6d-a587-dca950072c94'), attribute='amount', new_value=100.0)\n",
      "DEBUG:root:old_value=100.0\n",
      "DEBUG:root:Event appended: OrderAttributeUpdated(order_id=UUID('92a0f5fc-4678-4c6d-a587-dca950072c94'), attribute='amount', old_value=100.0, new_value=100.0)\n",
      "DEBUG:root:Handling event OrderAttributeUpdated(order_id=UUID('92a0f5fc-4678-4c6d-a587-dca950072c94'), attribute='amount', old_value=100.0, new_value=100.0) with handler <pension_planner.service_layer.handlers.UpdateDropdownOptions object at 0x0000014406FBAE00>\n",
      "DEBUG:root:Handling event OrderAttributeUpdated(order_id=UUID('92a0f5fc-4678-4c6d-a587-dca950072c94'), attribute='amount', old_value=100.0, new_value=100.0) with handler <pension_planner.service_layer.handlers.UpdateOverview object at 0x0000014406FBAE60>\n",
      "DEBUG:root:OrderAttributeUpdated(order_id=UUID('92a0f5fc-4678-4c6d-a587-dca950072c94'), attribute='amount', old_value=100.0, new_value=100.0)\n"
     ]
    }
   ],
   "source": [
    "THE_APP.sidebar.tab_item_accounts.vue_open_account()\n",
    "THE_APP.sidebar.tab_item_orders.place_order.vue_place_order(\"SingleOrder\")"
   ]
  },
  {
   "cell_type": "code",
   "execution_count": 9,
   "id": "8559527f-681a-4575-a247-add8b994abaa",
   "metadata": {},
   "outputs": [
    {
     "data": {
      "text/plain": [
       "UUID('92a0f5fc-4678-4c6d-a587-dca950072c94')"
      ]
     },
     "execution_count": 9,
     "metadata": {},
     "output_type": "execute_result"
    }
   ],
   "source": [
    "THE_APP.sidebar.tab_item_orders.order_editor.current_id"
   ]
  },
  {
   "cell_type": "code",
   "execution_count": 10,
   "id": "6a548760-17bc-4d1a-898c-931d8cbc0d2d",
   "metadata": {},
   "outputs": [
    {
     "data": {
      "text/plain": [
       "(('', None), ('Konto #1', UUID('4ef89ebd-aa73-4b7a-a290-028b78051691')))"
      ]
     },
     "execution_count": 10,
     "metadata": {},
     "output_type": "execute_result"
    }
   ],
   "source": [
    "THE_APP.sidebar.tab_item_orders.order_editor.from_acc_id.options"
   ]
  },
  {
   "cell_type": "code",
   "execution_count": 7,
   "id": "5f853980-ea83-4977-b42b-ac8a1ace5984",
   "metadata": {},
   "outputs": [],
   "source": [
    "from datetime import date"
   ]
  },
  {
   "cell_type": "code",
   "execution_count": null,
   "id": "6f19849c-dc82-4f77-a5ed-3f74875ec38f",
   "metadata": {},
   "outputs": [],
   "source": []
  }
 ],
 "metadata": {
  "kernelspec": {
   "display_name": "pension-planner",
   "language": "python",
   "name": "pension-planner"
  },
  "language_info": {
   "codemirror_mode": {
    "name": "ipython",
    "version": 3
   },
   "file_extension": ".py",
   "mimetype": "text/x-python",
   "name": "python",
   "nbconvert_exporter": "python",
   "pygments_lexer": "ipython3",
   "version": "3.10.2"
  }
 },
 "nbformat": 4,
 "nbformat_minor": 5
}
