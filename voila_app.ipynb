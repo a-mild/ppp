{
 "cells": [
  {
   "cell_type": "code",
   "execution_count": 1,
   "id": "706dced7-7e5c-495d-9ac5-fda777d6d6bd",
   "metadata": {},
   "outputs": [
    {
     "ename": "AttributeError",
     "evalue": "module 'pension_planner.domain.commands' has no attribute 'LoadDatabase'",
     "output_type": "error",
     "traceback": [
      "\u001b[1;31m---------------------------------------------------------------------------\u001b[0m",
      "\u001b[1;31mAttributeError\u001b[0m                            Traceback (most recent call last)",
      "Input \u001b[1;32mIn [1]\u001b[0m, in \u001b[0;36m<module>\u001b[1;34m\u001b[0m\n\u001b[0;32m      9\u001b[0m \u001b[38;5;28;01mfrom\u001b[39;00m \u001b[38;5;21;01mpension_planner\u001b[39;00m \u001b[38;5;28;01mimport\u001b[39;00m config\n\u001b[0;32m     10\u001b[0m \u001b[38;5;28;01mfrom\u001b[39;00m \u001b[38;5;21;01mpension_planner\u001b[39;00m\u001b[38;5;21;01m.\u001b[39;00m\u001b[38;5;21;01mservice_layer\u001b[39;00m\u001b[38;5;21;01m.\u001b[39;00m\u001b[38;5;21;01munit_of_work\u001b[39;00m \u001b[38;5;28;01mimport\u001b[39;00m SQLAlchemyUnitOfWork\n\u001b[1;32m---> 11\u001b[0m \u001b[38;5;28;01mfrom\u001b[39;00m \u001b[38;5;21;01mpension_planner\u001b[39;00m\u001b[38;5;21;01m.\u001b[39;00m\u001b[38;5;21;01mbootstrap\u001b[39;00m \u001b[38;5;28;01mimport\u001b[39;00m bootstrap\n\u001b[0;32m     12\u001b[0m \u001b[38;5;28;01mfrom\u001b[39;00m \u001b[38;5;21;01mpension_planner\u001b[39;00m\u001b[38;5;21;01m.\u001b[39;00m\u001b[38;5;21;01mfrontend\u001b[39;00m\u001b[38;5;21;01m.\u001b[39;00m\u001b[38;5;21;01mipyvuetify\u001b[39;00m\u001b[38;5;21;01m.\u001b[39;00m\u001b[38;5;21;01mmain\u001b[39;00m \u001b[38;5;28;01mimport\u001b[39;00m IPyVuetifyFrontend\n",
      "File \u001b[1;32mc:\\Users\\Alex\\PycharmProjects\\pension-planner\\pension_planner\\bootstrap.py:7\u001b[0m, in \u001b[0;36m<module>\u001b[1;34m\u001b[0m\n\u001b[0;32m      5\u001b[0m \u001b[38;5;28;01mfrom\u001b[39;00m \u001b[38;5;21;01mpension_planner\u001b[39;00m\u001b[38;5;21;01m.\u001b[39;00m\u001b[38;5;21;01madapters\u001b[39;00m \u001b[38;5;28;01mimport\u001b[39;00m orm\n\u001b[0;32m      6\u001b[0m \u001b[38;5;28;01mfrom\u001b[39;00m \u001b[38;5;21;01mpension_planner\u001b[39;00m\u001b[38;5;21;01m.\u001b[39;00m\u001b[38;5;21;01mfrontend\u001b[39;00m\u001b[38;5;21;01m.\u001b[39;00m\u001b[38;5;21;01minterface\u001b[39;00m \u001b[38;5;28;01mimport\u001b[39;00m AbstractFrontendInterface\n\u001b[1;32m----> 7\u001b[0m \u001b[38;5;28;01mfrom\u001b[39;00m \u001b[38;5;21;01mpension_planner\u001b[39;00m\u001b[38;5;21;01m.\u001b[39;00m\u001b[38;5;21;01mservice_layer\u001b[39;00m \u001b[38;5;28;01mimport\u001b[39;00m msg2handler\n\u001b[0;32m      8\u001b[0m \u001b[38;5;28;01mfrom\u001b[39;00m \u001b[38;5;21;01mpension_planner\u001b[39;00m\u001b[38;5;21;01m.\u001b[39;00m\u001b[38;5;21;01mservice_layer\u001b[39;00m\u001b[38;5;21;01m.\u001b[39;00m\u001b[38;5;21;01mmessagebus\u001b[39;00m \u001b[38;5;28;01mimport\u001b[39;00m MessageBus\n\u001b[0;32m      9\u001b[0m \u001b[38;5;28;01mfrom\u001b[39;00m \u001b[38;5;21;01mpension_planner\u001b[39;00m\u001b[38;5;21;01m.\u001b[39;00m\u001b[38;5;21;01mservice_layer\u001b[39;00m\u001b[38;5;21;01m.\u001b[39;00m\u001b[38;5;21;01munit_of_work\u001b[39;00m \u001b[38;5;28;01mimport\u001b[39;00m AbstractUnitOfWork\n",
      "File \u001b[1;32mc:\\Users\\Alex\\PycharmProjects\\pension-planner\\pension_planner\\service_layer\\msg2handler.py:156\u001b[0m, in \u001b[0;36m<module>\u001b[1;34m\u001b[0m\n\u001b[0;32m    143\u001b[0m \u001b[38;5;28;01mclass\u001b[39;00m \u001b[38;5;21;01mLoadDatabaseHandler\u001b[39;00m:\n\u001b[0;32m    144\u001b[0m     \u001b[38;5;28;01mpass\u001b[39;00m\n\u001b[0;32m    147\u001b[0m COMMAND_HANDLERS \u001b[38;5;241m=\u001b[39m {\n\u001b[0;32m    148\u001b[0m     commands\u001b[38;5;241m.\u001b[39mToggleDrawer: ToggleDrawerHandler,\n\u001b[0;32m    149\u001b[0m     commands\u001b[38;5;241m.\u001b[39mOpenAccount: OpenAccountHandler,\n\u001b[0;32m    150\u001b[0m     commands\u001b[38;5;241m.\u001b[39mCloseAccount: CloseAccountHandler,\n\u001b[0;32m    151\u001b[0m     commands\u001b[38;5;241m.\u001b[39mUpdateAccountAttribute: UpdateAccountAttributeHandler,\n\u001b[0;32m    152\u001b[0m     commands\u001b[38;5;241m.\u001b[39mCreateSingleOrder: PlaceSingleOrderHandler,\n\u001b[0;32m    153\u001b[0m     commands\u001b[38;5;241m.\u001b[39mCreateStandingOrder: PlaceStandingOrderHandler,\n\u001b[0;32m    154\u001b[0m     commands\u001b[38;5;241m.\u001b[39mDeleteOrder: DeleteOrderHandler,\n\u001b[0;32m    155\u001b[0m     commands\u001b[38;5;241m.\u001b[39mUpdateOrderAttribute: UpdateOrderAttributeHandler,\n\u001b[1;32m--> 156\u001b[0m     \u001b[43mcommands\u001b[49m\u001b[38;5;241;43m.\u001b[39;49m\u001b[43mLoadDatabase\u001b[49m: LoadDatabaseHandler\n\u001b[0;32m    157\u001b[0m }\n\u001b[0;32m    160\u001b[0m EVENT_HANDLERS \u001b[38;5;241m=\u001b[39m {\n\u001b[0;32m    161\u001b[0m     events\u001b[38;5;241m.\u001b[39mAccountOpened: [\n\u001b[0;32m    162\u001b[0m         UpdateFrontendAfterAccountOpened,\n\u001b[1;32m   (...)\u001b[0m\n\u001b[0;32m    184\u001b[0m     ],\n\u001b[0;32m    185\u001b[0m }\n",
      "\u001b[1;31mAttributeError\u001b[0m: module 'pension_planner.domain.commands' has no attribute 'LoadDatabase'"
     ]
    }
   ],
   "source": [
    "import logging\n",
    "logger = logging.getLogger()\n",
    "logger.setLevel(logging.DEBUG)\n",
    "\n",
    "import os, sys\n",
    "sys.path.insert(0, os.path.abspath('./pension_planner'))\n",
    "from sqlalchemy import create_engine\n",
    "from sqlalchemy.orm import sessionmaker\n",
    "from pension_planner import config\n",
    "from pension_planner.service_layer.unit_of_work import SQLAlchemyUnitOfWork\n",
    "from pension_planner.bootstrap import bootstrap\n",
    "from pension_planner.frontend.ipyvuetify.main import IPyVuetifyFrontend"
   ]
  },
  {
   "cell_type": "code",
   "execution_count": null,
   "id": "9e3f8a18-9fdb-4ee0-8889-56706d98ee59",
   "metadata": {},
   "outputs": [],
   "source": [
    "engine = create_engine(config.get_sqlite_uri())\n",
    "uow = SQLAlchemyUnitOfWork(\n",
    "    session_factory=sessionmaker(\n",
    "        bind=engine,\n",
    "        future=True,\n",
    "        # expire_on_commit=False\n",
    "    )\n",
    ")\n",
    "frontend = IPyVuetifyFrontend()\n",
    "bootstrap(\n",
    "    unit_of_work=uow,\n",
    "    frontend=frontend,\n",
    "    start_orm=True,\n",
    "    engine=engine\n",
    ")"
   ]
  },
  {
   "cell_type": "code",
   "execution_count": null,
   "id": "70db03c9-cce6-4caf-a58e-bf03979440ed",
   "metadata": {},
   "outputs": [],
   "source": [
    "frontend.show()"
   ]
  },
  {
   "cell_type": "code",
   "execution_count": null,
   "id": "74de3ab9-9a65-46fc-8841-c254c85794a2",
   "metadata": {},
   "outputs": [],
   "source": []
  }
 ],
 "metadata": {
  "kernelspec": {
   "display_name": "pension-planner",
   "language": "python",
   "name": "pension-planner"
  },
  "language_info": {
   "codemirror_mode": {
    "name": "ipython",
    "version": 3
   },
   "file_extension": ".py",
   "mimetype": "text/x-python",
   "name": "python",
   "nbconvert_exporter": "python",
   "pygments_lexer": "ipython3",
   "version": "3.10.2"
  }
 },
 "nbformat": 4,
 "nbformat_minor": 5
}
