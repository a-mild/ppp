{
 "cells": [
  {
   "cell_type": "code",
   "execution_count": 1,
   "id": "706dced7-7e5c-495d-9ac5-fda777d6d6bd",
   "metadata": {},
   "outputs": [
    {
     "ename": "SyntaxError",
     "evalue": "expected ':' (events.py, line 15)",
     "output_type": "error",
     "traceback": [
      "Traceback \u001b[1;36m(most recent call last)\u001b[0m:\n",
      "  File \u001b[0;32mC:\\ProgramData\\Anaconda3\\envs\\pension-planner\\lib\\site-packages\\IPython\\core\\interactiveshell.py:3251\u001b[0m in \u001b[0;35mrun_code\u001b[0m\n    exec(code_obj, self.user_global_ns, self.user_ns)\n",
      "  Input \u001b[0;32mIn [1]\u001b[0m in \u001b[0;35m<module>\u001b[0m\n    from pension_planner.frontend import THE_APP\n",
      "  File \u001b[0;32m~\\PycharmProjects\\pension-planner\\pension_planner\\frontend\\__init__.py:1\u001b[0m in \u001b[0;35m<module>\u001b[0m\n    from pension_planner.frontend.app import App\n",
      "  File \u001b[0;32m~\\PycharmProjects\\pension-planner\\pension_planner\\frontend\\app.py:13\u001b[0m in \u001b[0;35m<module>\u001b[0m\n    from pension_planner.frontend.components.appbar import AppBar\n",
      "  File \u001b[0;32m~\\PycharmProjects\\pension-planner\\pension_planner\\frontend\\components\\appbar.py:12\u001b[0m in \u001b[0;35m<module>\u001b[0m\n    from pension_planner.domain.bank_account import BankAccount\n",
      "\u001b[1;36m  File \u001b[1;32m~\\PycharmProjects\\pension-planner\\pension_planner\\domain\\bank_account.py:6\u001b[1;36m in \u001b[1;35m<module>\u001b[1;36m\u001b[0m\n\u001b[1;33m    from pension_planner.service_layer.events import Event\u001b[0m\n",
      "\u001b[1;36m  File \u001b[1;32m~\\PycharmProjects\\pension-planner\\pension_planner\\service_layer\\events.py:15\u001b[1;36m\u001b[0m\n\u001b[1;33m    class SelectBank\u001b[0m\n\u001b[1;37m                    ^\u001b[0m\n\u001b[1;31mSyntaxError\u001b[0m\u001b[1;31m:\u001b[0m expected ':'\n"
     ]
    }
   ],
   "source": [
    "import logging\n",
    "logger = logging.getLogger()\n",
    "logger.setLevel(logging.DEBUG)\n",
    "\n",
    "import os, sys\n",
    "sys.path.insert(0, os.path.abspath('./pension_planner'))\n",
    "from pension_planner.frontend import THE_APP"
   ]
  },
  {
   "cell_type": "code",
   "execution_count": null,
   "id": "9e3f8a18-9fdb-4ee0-8889-56706d98ee59",
   "metadata": {},
   "outputs": [],
   "source": [
    "THE_APP"
   ]
  },
  {
   "cell_type": "code",
   "execution_count": null,
   "id": "f35f8501-f577-4766-94eb-a1e8a27745e3",
   "metadata": {},
   "outputs": [],
   "source": [
    "#SideBar()"
   ]
  },
  {
   "cell_type": "code",
   "execution_count": null,
   "id": "bd30559f-74b4-4617-8cf4-c115cf228e42",
   "metadata": {},
   "outputs": [],
   "source": []
  }
 ],
 "metadata": {
  "kernelspec": {
   "display_name": "pension-planner",
   "language": "python",
   "name": "pension-planner"
  },
  "language_info": {
   "codemirror_mode": {
    "name": "ipython",
    "version": 3
   },
   "file_extension": ".py",
   "mimetype": "text/x-python",
   "name": "python",
   "nbconvert_exporter": "python",
   "pygments_lexer": "ipython3",
   "version": "3.10.2"
  }
 },
 "nbformat": 4,
 "nbformat_minor": 5
}
