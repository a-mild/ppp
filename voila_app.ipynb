{
 "cells": [
  {
   "cell_type": "code",
   "execution_count": 1,
   "id": "706dced7-7e5c-495d-9ac5-fda777d6d6bd",
   "metadata": {},
   "outputs": [],
   "source": [
    "import logging\n",
    "logger = logging.getLogger()\n",
    "logger.setLevel(logging.DEBUG)\n",
    "\n",
    "import os, sys\n",
    "sys.path.insert(0, os.path.abspath('./pension_planner'))\n",
    "from sqlalchemy.orm import sessionmaker\n",
    "from pension_planner.service_layer.unit_of_work import SQLAlchemyUnitOfWork\n",
    "from pension_planner.bootstrap import engine, bootstrap\n",
    "from pension_planner.frontend.ipyvuetify.main import IPyVuetifyFrontend"
   ]
  },
  {
   "cell_type": "code",
   "execution_count": 2,
   "id": "9e3f8a18-9fdb-4ee0-8889-56706d98ee59",
   "metadata": {},
   "outputs": [
    {
     "data": {
      "text/plain": [
       "<pension_planner.service_layer.messagebus.MessageBus at 0x22796f83ee0>"
      ]
     },
     "execution_count": 2,
     "metadata": {},
     "output_type": "execute_result"
    }
   ],
   "source": [
    "uow = SQLAlchemyUnitOfWork(\n",
    "    session_factory=sessionmaker(\n",
    "        bind=engine,\n",
    "        future=True,\n",
    "        # expire_on_commit=False\n",
    "    )\n",
    ")\n",
    "frontend = IPyVuetifyFrontend()\n",
    "bootstrap(\n",
    "    unit_of_work=uow,\n",
    "    frontend=frontend,\n",
    "    start_orm=True\n",
    ")"
   ]
  },
  {
   "cell_type": "code",
   "execution_count": null,
   "id": "70db03c9-cce6-4caf-a58e-bf03979440ed",
   "metadata": {},
   "outputs": [],
   "source": [
    "frontend.show()"
   ]
  },
  {
   "cell_type": "code",
   "execution_count": null,
   "id": "74de3ab9-9a65-46fc-8841-c254c85794a2",
   "metadata": {},
   "outputs": [],
   "source": []
  }
 ],
 "metadata": {
  "kernelspec": {
   "display_name": "pension-planner",
   "language": "python",
   "name": "pension-planner"
  },
  "language_info": {
   "codemirror_mode": {
    "name": "ipython",
    "version": 3
   },
   "file_extension": ".py",
   "mimetype": "text/x-python",
   "name": "python",
   "nbconvert_exporter": "python",
   "pygments_lexer": "ipython3",
   "version": "3.10.2"
  }
 },
 "nbformat": 4,
 "nbformat_minor": 5
}
