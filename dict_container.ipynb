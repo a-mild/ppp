{
 "cells": [
  {
   "cell_type": "code",
   "execution_count": 29,
   "id": "a5c670bc-526c-4ef1-b926-08a36a99b56a",
   "metadata": {},
   "outputs": [],
   "source": [
    "import traitlets\n",
    "import ipywidgets as w\n",
    "import ipyvuetify as v\n",
    "from spectate import mvc\n",
    "from traitlets import TraitType\n",
    "from traitlets import HasTraits, observe"
   ]
  },
  {
   "cell_type": "code",
   "execution_count": 37,
   "id": "e6b24240-d409-41ca-b8c3-7a511ff6430e",
   "metadata": {},
   "outputs": [],
   "source": [
    "class Mutable(TraitType):\n",
    "    \"\"\"A base class for mutable traits using Spectate\"\"\"\n",
    "\n",
    "    _model_type = None\n",
    "    _event_type = \"change\"\n",
    "\n",
    "    def instance_init(self, obj):\n",
    "        default = self._model_type()\n",
    "\n",
    "        @mvc.view(default)\n",
    "        def callback(default, events):\n",
    "            change = dict(\n",
    "                new=getattr(obj, self.name),\n",
    "                name=self.name,\n",
    "                type=self._event_type,\n",
    "            )\n",
    "            obj.notify_change(change)\n",
    "\n",
    "        setattr(obj, self.name, default)"
   ]
  },
  {
   "cell_type": "code",
   "execution_count": 38,
   "id": "6f37ea0b-581a-4b80-8c80-08d05db4cd5f",
   "metadata": {},
   "outputs": [],
   "source": [
    "class MutableDict(Mutable):\n",
    "    \"\"\"A mutable dictionary trait\"\"\"\n",
    "\n",
    "    _model_type = mvc.Dict"
   ]
  },
  {
   "cell_type": "code",
   "execution_count": 25,
   "id": "08b17bab-54b8-466b-b563-0619497f1c79",
   "metadata": {},
   "outputs": [],
   "source": [
    "class MutableList(Mutable):\n",
    "    \"\"\"A mutable dictionary trait\"\"\"\n",
    "\n",
    "    _model_type = mvc.List\n",
    "\n",
    "    def _make_change(self, model, events):\n",
    "        old, new = {}, {}\n",
    "        for e in events:\n",
    "            old[e[\"key\"]] = e[\"old\"]\n",
    "            new[e[\"key\"]] = e[\"new\"]\n",
    "        return {\"value\": model, \"old\": old, \"new\": new}"
   ]
  },
  {
   "cell_type": "code",
   "execution_count": 39,
   "id": "1d823d45-ba1b-49c0-813a-517ba6d985f2",
   "metadata": {},
   "outputs": [],
   "source": [
    "class MyObject(HasTraits):\n",
    "    mutable_dict = MutableDict()\n",
    "\n",
    "    @observe(\"mutable_dict\", type=\"mutation\")\n",
    "    def track_mutations_from_method(self, change):\n",
    "        print(\"method observer:\", change)"
   ]
  },
  {
   "cell_type": "code",
   "execution_count": 61,
   "id": "a977bc27-f279-4c23-a59d-ef9e19cb59e3",
   "metadata": {},
   "outputs": [],
   "source": [
    "overview_template = \"\"\"\n",
    "<template>\n",
    "    <v-expansion-panels accordion>\n",
    "        <jupyter-widget v-for=\"acc in accounts\" :widget=\"acc\" />\n",
    "    </v-expansion-panels>\n",
    "</template>\n",
    "\"\"\""
   ]
  },
  {
   "cell_type": "code",
   "execution_count": 69,
   "id": "4bff2c71-1ed9-4630-b2eb-c2c3e70bd135",
   "metadata": {},
   "outputs": [],
   "source": [
    "account_expansion_panel_template = \"\"\"\n",
    "<v-expansion-panel>\n",
    "     <v-expansion-panel-header>{{name}}</v-expansion-panel-header>\n",
    "     <v-expansion-panel-content>\n",
    "         <v-container>\n",
    "             <v-row>\n",
    "                 <v-col>\n",
    "                     <v-row>Einzahlungen</v-row>\n",
    "                     <v-row v-for=\"asset in assets\">\n",
    "                         <jupyter-widget :widget=\"asset\" />\n",
    "                     </v-row>\n",
    "                </v-col>\n",
    "                 <v-col >\n",
    "                     <v-row>Auszahlungen</v-row>\n",
    "                     <v-row v-for=\"liability in liabilities\">\n",
    "                         <jupyter-widget :widget=\"liabilitiy\" />\n",
    "                     </v-row>\n",
    "                 </v-col>\n",
    "             </v-row>\n",
    "        </v-container>\n",
    "    </v-expansion-panel-content>\n",
    "</v-expansion-panel>\n",
    "\"\"\""
   ]
  },
  {
   "cell_type": "code",
   "execution_count": 70,
   "id": "f030d942-9fd2-4612-b05d-2ffbc17fe3eb",
   "metadata": {},
   "outputs": [],
   "source": [
    "order_card_template = \"\"\"\n",
    "<template>\n",
    "    <v-card>\n",
    "        <v-card-title>{{name}}</v-card-title>\n",
    "    <v-card-actions>\n",
    "      <v-btn\n",
    "        text\n",
    "      >\n",
    "        Edit\n",
    "      </v-btn>\n",
    "\n",
    "      <v-spacer></v-spacer>\n",
    "\n",
    "      <v-btn\n",
    "        @click=\"show_details = !show_details\"\n",
    "      >\n",
    "          Details\n",
    "        <v-icon>{{ show_details ? 'mdi-chevron-up' : 'mdi-chevron-down' }}</v-icon>\n",
    "      </v-btn>\n",
    "    </v-card-actions>\n",
    "\n",
    "    <v-expand-transition>\n",
    "      <div v-show=\"show_details\">\n",
    "        <v-divider></v-divider>\n",
    "\n",
    "        <v-card-text>\n",
    "          Details ...\n",
    "        </v-card-text>\n",
    "      </div>\n",
    "    </v-expand-transition>\n",
    "    </v-card>\n",
    "</template>\n",
    "\"\"\""
   ]
  },
  {
   "cell_type": "code",
   "execution_count": 71,
   "id": "fc708088-c3f3-4b08-881d-14a90aa912d4",
   "metadata": {},
   "outputs": [],
   "source": [
    "class OrderCard(v.VuetifyTemplate):\n",
    "    name = traitlets.Unicode().tag(sync=True)\n",
    "    id_ = traitlets.Unicode().tag(sync=True)\n",
    "    show_details = traitlets.Bool(False).tag(sync=True)\n",
    "    \n",
    "    \n",
    "    @traitlets.default(\"template\")\n",
    "    def _template(self):\n",
    "        return order_card_template"
   ]
  },
  {
   "cell_type": "code",
   "execution_count": 68,
   "id": "49c5287b-b892-4750-bea6-9e3f99242e0a",
   "metadata": {},
   "outputs": [],
   "source": [
    "class AccountExpansionPanel(v.VuetifyTemplate):\n",
    "    name = traitlets.Unicode().tag(sync=True)\n",
    "    \n",
    "    assets = MutableDict().tag(sync=True, **w.widget_serialization)\n",
    "    liabilities = MutableDict().tag(sync=True, **w.widget_serialization)\n",
    "    \n",
    "    @traitlets.default(\"template\")\n",
    "    def _template(self):\n",
    "        return account_expansion_panel_template"
   ]
  },
  {
   "cell_type": "code",
   "execution_count": 65,
   "id": "7f1b4e4f-757a-4b18-ac5e-bd8d6420b1d0",
   "metadata": {},
   "outputs": [],
   "source": [
    "class Overview(v.VuetifyTemplate):\n",
    "    accounts = MutableDict().tag(sync=True, **w.widget_serialization)\n",
    "    \n",
    "    \n",
    "    @traitlets.default(\"template\")\n",
    "    def _template(self):\n",
    "        return overview_template\n",
    "    \n",
    "    @observe(\"accounts\", type=\"mutation\")\n",
    "    def track_mutations_from_method(self, change):\n",
    "        print(\"method observer:\", change)"
   ]
  },
  {
   "cell_type": "code",
   "execution_count": 78,
   "id": "5d22c053-34df-4c3e-8252-873f11550b34",
   "metadata": {},
   "outputs": [
    {
     "data": {
      "application/vnd.jupyter.widget-view+json": {
       "model_id": "1381c8ad98644008b3eff0ab47bf9728",
       "version_major": 2,
       "version_minor": 0
      },
      "text/plain": [
       "Overview(accounts={}, template='\\n<template>\\n    <v-expansion-panels accordion>\\n        <jupyter-widget v-fo…"
      ]
     },
     "metadata": {},
     "output_type": "display_data"
    }
   ],
   "source": [
    "overview = Overview()\n",
    "overview"
   ]
  },
  {
   "cell_type": "code",
   "execution_count": 82,
   "id": "216f1d2a-b050-43f3-9f97-42775c440fe0",
   "metadata": {},
   "outputs": [],
   "source": [
    "overview.accounts[0] = AccountExpansionPanel(name=\"Konto #2\")"
   ]
  },
  {
   "cell_type": "code",
   "execution_count": 80,
   "id": "5fd46e14-2f7a-4fd4-905e-413e07cb8b58",
   "metadata": {},
   "outputs": [],
   "source": [
    "overview.accounts[1].assets[0] = OrderCard(name=\"Auftrag #1\")"
   ]
  },
  {
   "cell_type": "code",
   "execution_count": 75,
   "id": "8fa769d6-6ec4-47f0-814c-020263ece7d7",
   "metadata": {},
   "outputs": [],
   "source": [
    "overview.accounts[1].assets[0].name = \"Dauerauftrag\""
   ]
  },
  {
   "cell_type": "code",
   "execution_count": 81,
   "id": "d648c97d-1278-40bc-90af-db7af74edc74",
   "metadata": {},
   "outputs": [
    {
     "data": {
      "application/vnd.jupyter.widget-view+json": {
       "model_id": "01dd3e70a5d44695a6381fca847ced13",
       "version_major": 2,
       "version_minor": 0
      },
      "text/plain": [
       "OrderCard(name='Auftrag #1', template='\\n<template>\\n    <v-card>\\n        <v-card-title>{{name}}</v-card-titl…"
      ]
     },
     "metadata": {},
     "output_type": "display_data"
    }
   ],
   "source": [
    "overview.accounts[1].assets.pop(0)"
   ]
  },
  {
   "cell_type": "code",
   "execution_count": null,
   "id": "d124df2a-9c5c-413b-acd5-357b4cd65439",
   "metadata": {},
   "outputs": [],
   "source": []
  }
 ],
 "metadata": {
  "kernelspec": {
   "display_name": "pension-planner",
   "language": "python",
   "name": "pension-planner"
  },
  "language_info": {
   "codemirror_mode": {
    "name": "ipython",
    "version": 3
   },
   "file_extension": ".py",
   "mimetype": "text/x-python",
   "name": "python",
   "nbconvert_exporter": "python",
   "pygments_lexer": "ipython3",
   "version": "3.10.2"
  }
 },
 "nbformat": 4,
 "nbformat_minor": 5
}
