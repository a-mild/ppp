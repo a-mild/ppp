{
 "cells": [
  {
   "cell_type": "code",
   "execution_count": 1,
   "id": "c0994d0e-e903-489f-81f5-7ff49fd57f9c",
   "metadata": {},
   "outputs": [],
   "source": [
    "import traitlets\n",
    "import ipywidgets as w\n",
    "import ipyvuetify as v"
   ]
  },
  {
   "cell_type": "code",
   "execution_count": 2,
   "id": "649e808e-648f-462c-bf29-cc02b2026b0e",
   "metadata": {},
   "outputs": [],
   "source": [
    "def callback(change):\n",
    "    print(change[\"new\"])"
   ]
  },
  {
   "cell_type": "code",
   "execution_count": 33,
   "id": "d57c6cc1-5db8-4ef8-be96-d12af3dcffd3",
   "metadata": {},
   "outputs": [
    {
     "data": {
      "application/vnd.jupyter.widget-view+json": {
       "model_id": "5b50f043aa59415db01637dfad042550",
       "version_major": 2,
       "version_minor": 0
      },
      "text/plain": [
       "TextField(label='Name', type='number', v_model=None)"
      ]
     },
     "metadata": {},
     "output_type": "display_data"
    }
   ],
   "source": [
    "textfield = v.TextField(label=\"Name\", v_model=None, type=\"number\")\n",
    "textfield.observe(lambda e: callback(\"text\", e), names=\"v_model\")\n",
    "textfield"
   ]
  },
  {
   "cell_type": "code",
   "execution_count": 34,
   "id": "1af79950-3774-43df-b621-515cc4d9c5e8",
   "metadata": {},
   "outputs": [
    {
     "name": "stdout",
     "output_type": "stream",
     "text": [
      "text 100\n"
     ]
    }
   ],
   "source": [
    "textfield.v_model = 100"
   ]
  },
  {
   "cell_type": "code",
   "execution_count": 8,
   "id": "0aa87e0f-4fbc-4c9e-af2a-bb0ed7d31115",
   "metadata": {},
   "outputs": [
    {
     "data": {
      "application/vnd.jupyter.widget-view+json": {
       "model_id": "22eeb6ec58ae49868a3e8ce656f3619c",
       "version_major": 2,
       "version_minor": 0
      },
      "text/plain": [
       "Dropdown(description='Number:', index=1, options=(('One', 1), ('Two', 2), ('Three', 3)), value=2)"
      ]
     },
     "metadata": {},
     "output_type": "display_data"
    }
   ],
   "source": [
    "dropdown = w.Dropdown(\n",
    "    options=[('One', 1), ('Two', 2), ('Three', 3)],\n",
    "    value=2,\n",
    "    description='Number:',\n",
    ")\n",
    "dropdown.observe(callback, names=\"value\")\n",
    "dropdown"
   ]
  },
  {
   "cell_type": "code",
   "execution_count": 9,
   "id": "c751203f-748d-464e-a85f-6ba1c6ccbd34",
   "metadata": {},
   "outputs": [
    {
     "data": {
      "text/plain": [
       "2"
      ]
     },
     "execution_count": 9,
     "metadata": {},
     "output_type": "execute_result"
    }
   ],
   "source": [
    "dropdown.value"
   ]
  },
  {
   "cell_type": "code",
   "execution_count": 4,
   "id": "42173b2c-0524-45de-ad61-8ae119747954",
   "metadata": {},
   "outputs": [],
   "source": [
    "dropdown.disabled = False"
   ]
  },
  {
   "cell_type": "code",
   "execution_count": 5,
   "id": "1a230151-8575-4317-853c-d882c6d19421",
   "metadata": {},
   "outputs": [],
   "source": [
    "dropdown.description = \"Enter number\""
   ]
  },
  {
   "cell_type": "code",
   "execution_count": 10,
   "id": "6da4f0bc-5eb1-4ff2-8dad-9076f53462aa",
   "metadata": {},
   "outputs": [
    {
     "name": "stdout",
     "output_type": "stream",
     "text": [
      "1\n"
     ]
    }
   ],
   "source": [
    "dropdown.options = [('One', 1), ('Two', 2), ('Three', 3), (\"Four\", 4)]"
   ]
  },
  {
   "cell_type": "code",
   "execution_count": 9,
   "id": "76a3c3de-820e-4530-9056-e217142b18c0",
   "metadata": {},
   "outputs": [],
   "source": [
    "dropdown.style = {\"hide\": True}"
   ]
  },
  {
   "cell_type": "code",
   "execution_count": 17,
   "id": "32b3f71f-083a-4b37-89bb-07efbfde3bf5",
   "metadata": {},
   "outputs": [],
   "source": [
    "dropdown.layout.display = \"block\""
   ]
  },
  {
   "cell_type": "code",
   "execution_count": 29,
   "id": "af79929e-40e6-4cc4-8393-365f5dc2b5c7",
   "metadata": {},
   "outputs": [
    {
     "data": {
      "text/plain": [
       "(ipyvuetify.generated.TextField.TextField,\n",
       " ipyvuetify.generated.VuetifyWidget.VuetifyWidget,\n",
       " ipyvue.VueWidget.VueWidget,\n",
       " ipywidgets.widgets.domwidget.DOMWidget,\n",
       " ipywidgets.widgets.widget.Widget,\n",
       " ipywidgets.widgets.widget.LoggingHasTraits,\n",
       " traitlets.traitlets.HasTraits,\n",
       " traitlets.traitlets.HasDescriptors,\n",
       " ipyvue.VueWidget.Events,\n",
       " object)"
      ]
     },
     "execution_count": 29,
     "metadata": {},
     "output_type": "execute_result"
    }
   ],
   "source": [
    "textfield.__class__.__mro__"
   ]
  },
  {
   "cell_type": "code",
   "execution_count": 30,
   "id": "951daf43-404f-46c5-a3dc-5a89ed8f3dab",
   "metadata": {},
   "outputs": [
    {
     "data": {
      "text/plain": [
       "(ipywidgets.widgets.widget_selection.Dropdown,\n",
       " ipywidgets.widgets.widget_selection._Selection,\n",
       " ipywidgets.widgets.widget_description.DescriptionWidget,\n",
       " ipywidgets.widgets.domwidget.DOMWidget,\n",
       " ipywidgets.widgets.valuewidget.ValueWidget,\n",
       " ipywidgets.widgets.widget_core.CoreWidget,\n",
       " ipywidgets.widgets.widget.Widget,\n",
       " ipywidgets.widgets.widget.LoggingHasTraits,\n",
       " traitlets.traitlets.HasTraits,\n",
       " traitlets.traitlets.HasDescriptors,\n",
       " object)"
      ]
     },
     "execution_count": 30,
     "metadata": {},
     "output_type": "execute_result"
    }
   ],
   "source": [
    "dropdown.__class__.__mro__"
   ]
  },
  {
   "cell_type": "code",
   "execution_count": 21,
   "id": "a585058b-e2ba-4bfb-94e2-4b658ae44975",
   "metadata": {},
   "outputs": [],
   "source": [
    "template = \"\"\"\n",
    "<template>\n",
    "    <v-card>\n",
    "        <v-card-title>Auftrag #1</v-card-title>\n",
    "    <v-card-actions>\n",
    "      <v-btn\n",
    "        text\n",
    "      >\n",
    "        Edit\n",
    "      </v-btn>\n",
    "\n",
    "      <v-spacer></v-spacer>\n",
    "\n",
    "      <v-btn\n",
    "        @click=\"show_details = !show_details\"\n",
    "      >\n",
    "          Details\n",
    "        <v-icon>{{ show_details ? 'mdi-chevron-up' : 'mdi-chevron-down' }}</v-icon>\n",
    "      </v-btn>\n",
    "    </v-card-actions>\n",
    "\n",
    "    <v-expand-transition>\n",
    "      <div v-show=\"show_details\">\n",
    "        <v-divider></v-divider>\n",
    "\n",
    "        <v-card-text>\n",
    "          text\n",
    "        </v-card-text>\n",
    "      </div>\n",
    "    </v-expand-transition>\n",
    "    </v-card>\n",
    "</template>\n",
    "\"\"\""
   ]
  },
  {
   "cell_type": "code",
   "execution_count": 22,
   "id": "931cf91d-833c-478c-82d2-268c0a74decd",
   "metadata": {},
   "outputs": [],
   "source": [
    "class OrderCard(v.VuetifyTemplate):\n",
    "    name = traitlets.Unicode().tag(sync=True)\n",
    "    id_ = traitlets.Unicode().tag(sync=True)\n",
    "    show_details = traitlets.Bool(False).tag(sync=True)\n",
    "    \n",
    "    \n",
    "    @traitlets.default(\"template\")\n",
    "    def _template(self):\n",
    "        return template"
   ]
  },
  {
   "cell_type": "code",
   "execution_count": 23,
   "id": "ba435a52-0257-4bff-9a84-0a9d45b9c994",
   "metadata": {},
   "outputs": [
    {
     "data": {
      "application/vnd.jupyter.widget-view+json": {
       "model_id": "39f656d815144e828c6c0fc006cc7bc0",
       "version_major": 2,
       "version_minor": 0
      },
      "text/plain": [
       "OrderCard(template='\\n<template>\\n    <v-card>\\n        <v-card-title>Auftrag #1</v-card-title>\\n    <v-card-a…"
      ]
     },
     "metadata": {},
     "output_type": "display_data"
    }
   ],
   "source": [
    "OrderCard()"
   ]
  },
  {
   "cell_type": "code",
   "execution_count": 47,
   "id": "a70064f2-6929-4d9a-b4dd-f1bb28149c0d",
   "metadata": {},
   "outputs": [],
   "source": [
    "overview_template = \"\"\"\n",
    "<template>\n",
    "    <v-expansion-panels accordion>\n",
    "        <v-expansion-panel v-for=\"acc in accounts\">\n",
    "             <v-expansion-panel-header>{{acc.name}}</v-expansion-panel-header>\n",
    "             <v-expansion-panel-content>\n",
    "                 <v-container>\n",
    "                     <v-row>\n",
    "                         <v-col>\n",
    "                             <v-row>Einzahlungen</v-row>\n",
    "                             <v-row><jupyter-widget :widget=\"card\" /></v-row>\n",
    "                        </v-col>\n",
    "                         <v-col >\n",
    "                             <v-row>Auszahlungen</v-row>\n",
    "                             <v-row><jupyter-widget :widget=\"card\" /></v-row>\n",
    "                         </v-col>\n",
    "                     </v-row>\n",
    "                </v-container>\n",
    "            </v-expansion-panel-content>\n",
    "        </v-expansion-panel>\n",
    "    </v-expansion-panels>\n",
    "</template>\n",
    "\"\"\""
   ]
  },
  {
   "cell_type": "code",
   "execution_count": 48,
   "id": "97cbc5e6-bf00-45db-925a-1ee6414ef9b8",
   "metadata": {},
   "outputs": [],
   "source": [
    "class OverView(v.VuetifyTemplate):\n",
    "    card = traitlets.Any(OrderCard()).tag(sync=True, **w.widget_serialization)\n",
    "    \n",
    "    \n",
    "    @traitlets.default(\"template\")\n",
    "    def _template(self):\n",
    "        return overview_template"
   ]
  },
  {
   "cell_type": "code",
   "execution_count": 49,
   "id": "9622f425-1c22-43e7-8666-51cd5ee37d7c",
   "metadata": {},
   "outputs": [
    {
     "data": {
      "application/vnd.jupyter.widget-view+json": {
       "model_id": "5ec1bb7e9bb744808426c89130c6bf5c",
       "version_major": 2,
       "version_minor": 0
      },
      "text/plain": [
       "OverView(template='\\n<template>\\n    <v-expansion-panels accordion>\\n        <v-expansion-panel>\\n            …"
      ]
     },
     "metadata": {},
     "output_type": "display_data"
    }
   ],
   "source": [
    "OverView()"
   ]
  },
  {
   "cell_type": "code",
   "execution_count": null,
   "id": "21bfb6d4-b09f-4898-912e-eceb4642a919",
   "metadata": {},
   "outputs": [],
   "source": []
  }
 ],
 "metadata": {
  "kernelspec": {
   "display_name": "pension-planner",
   "language": "python",
   "name": "pension-planner"
  },
  "language_info": {
   "codemirror_mode": {
    "name": "ipython",
    "version": 3
   },
   "file_extension": ".py",
   "mimetype": "text/x-python",
   "name": "python",
   "nbconvert_exporter": "python",
   "pygments_lexer": "ipython3",
   "version": "3.10.2"
  }
 },
 "nbformat": 4,
 "nbformat_minor": 5
}
